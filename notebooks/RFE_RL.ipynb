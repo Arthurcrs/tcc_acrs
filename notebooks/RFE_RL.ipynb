{
 "cells": [
  {
   "cell_type": "code",
   "execution_count": null,
   "metadata": {},
   "outputs": [],
   "source": [
    "%%capture\n",
    "!pip3 install sklearn\n",
    "!pip3 install matplotlib\n",
    "!pip3 install xgboost\n",
    "!pip3 install pandas"
   ]
  },
  {
   "cell_type": "code",
   "execution_count": null,
   "metadata": {},
   "outputs": [],
   "source": [
    "sys.path.append('../../src/')\n",
    "from TrainModels import *"
   ]
  },
  {
   "cell_type": "code",
   "execution_count": null,
   "metadata": {},
   "outputs": [],
   "source": [
    "datasets_full = ['dataset_1_', 'dataset_2_', 'dataset_3_', 'dataset_7_']\n",
    "datasets_gwas = ['dataset_19_', 'dataset_20_', 'dataset_21_']"
   ]
  },
  {
   "cell_type": "code",
   "execution_count": null,
   "metadata": {},
   "outputs": [],
   "source": [
    "feature_selection = {\"method\": \"RFE\" , \"estimator\": \"RL\" }\n",
    "# train_models = [\"KNN\",\"SGDClassifier\",\"LogisticRegression\",\"SVC\",\"RandomForestClassifier\",\"GBTC\",\"XGB\",\"MLPClassifier\"]\n",
    "train_models = [\"all\"]"
   ]
  },
  {
   "cell_type": "code",
   "execution_count": null,
   "metadata": {},
   "outputs": [],
   "source": [
    "train_models = [\"KNN\"]\n",
    "TM = PredictPRinKP(datasets_full, datasets_gwas, feature_selection, train_models)\n",
    "TM.main()"
   ]
  },
  {
   "cell_type": "code",
   "execution_count": null,
   "metadata": {},
   "outputs": [],
   "source": [
    "train_models = [\"SGDClassifier\"]\n",
    "TM = PredictPRinKP(datasets_full, datasets_gwas, feature_selection, train_models)\n",
    "TM.main()"
   ]
  },
  {
   "cell_type": "code",
   "execution_count": null,
   "metadata": {},
   "outputs": [],
   "source": [
    "train_models = [\"LogisticRegression\"]\n",
    "TM = PredictPRinKP(datasets_full, datasets_gwas, feature_selection, train_models)\n",
    "TM.main()"
   ]
  },
  {
   "cell_type": "code",
   "execution_count": null,
   "metadata": {},
   "outputs": [],
   "source": [
    "train_models = [\"SVC\"]\n",
    "TM = PredictPRinKP(datasets_full, datasets_gwas, feature_selection, train_models)\n",
    "TM.main()"
   ]
  },
  {
   "cell_type": "code",
   "execution_count": null,
   "metadata": {},
   "outputs": [],
   "source": [
    "train_models = [\"RandomForestClassifier\"]\n",
    "TM = PredictPRinKP(datasets_full, datasets_gwas, feature_selection, train_models)\n",
    "TM.main()"
   ]
  },
  {
   "cell_type": "code",
   "execution_count": null,
   "metadata": {},
   "outputs": [],
   "source": [
    "train_models = [\"GBTC\"]\n",
    "TM = PredictPRinKP(datasets_full, datasets_gwas, feature_selection, train_models)\n",
    "TM.main()"
   ]
  },
  {
   "cell_type": "code",
   "execution_count": null,
   "metadata": {},
   "outputs": [],
   "source": [
    "train_models = [\"XGB\"]\n",
    "TM = PredictPRinKP(datasets_full, datasets_gwas, feature_selection, train_models)\n",
    "TM.main()"
   ]
  },
  {
   "cell_type": "code",
   "execution_count": null,
   "metadata": {},
   "outputs": [],
   "source": [
    "train_models = [\"MLPClassifier\"]\n",
    "TM = PredictPRinKP(datasets_full, datasets_gwas, feature_selection, train_models)\n",
    "TM.main()"
   ]
  }
 ],
 "metadata": {
  "language_info": {
   "name": "python"
  },
  "orig_nbformat": 4
 },
 "nbformat": 4,
 "nbformat_minor": 2
}
