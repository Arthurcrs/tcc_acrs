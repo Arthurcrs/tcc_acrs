{
 "cells": [
  {
   "cell_type": "code",
   "execution_count": 1,
   "metadata": {},
   "outputs": [],
   "source": [
    "%%capture\n",
    "!pip3 install sklearn\n",
    "!pip3 install matplotlib\n",
    "!pip3 install xgboost\n",
    "!pip3 install pandas"
   ]
  },
  {
   "cell_type": "code",
   "execution_count": 2,
   "metadata": {},
   "outputs": [],
   "source": [
    "sys.path.append('../src/')\n",
    "from TrainModels import *"
   ]
  },
  {
   "cell_type": "code",
   "execution_count": 3,
   "metadata": {},
   "outputs": [],
   "source": [
    "datasets_full = ['dataset_1_', 'dataset_2_', 'dataset_3_', 'dataset_7_']\n",
    "datasets_gwas = ['dataset_19_', 'dataset_20_', 'dataset_21_']"
   ]
  },
  {
   "cell_type": "code",
   "execution_count": 4,
   "metadata": {},
   "outputs": [],
   "source": [
    "feature_selection = {\"method\": \"RFE\" , \"estimator\": \"SVC\" }\n",
    "train_models = [\"all\"]"
   ]
  },
  {
   "cell_type": "code",
   "execution_count": 6,
   "metadata": {},
   "outputs": [
    {
     "name": "stdout",
     "output_type": "stream",
     "text": [
      "\n",
      "############################# Full datasets #############################\n",
      "----------------Training dataset_1_----------------\n",
      "---- Performing Feature Selection ----\n",
      "Method: Recursive Feature Selection with CV\n",
      "Estimator: Suport Vector Classifier\n"
     ]
    }
   ],
   "source": [
    "TM = PredictPRinKP(datasets_full, datasets_gwas, feature_selection, train_models)\n",
    "TM.main()"
   ]
  }
 ],
 "metadata": {
  "interpreter": {
   "hash": "916dbcbb3f70747c44a77c7bcd40155683ae19c65e1c03b4aa3499c5328201f1"
  },
  "kernelspec": {
   "display_name": "Python 3.9.5 64-bit",
   "name": "python3"
  },
  "language_info": {
   "codemirror_mode": {
    "name": "ipython",
    "version": 3
   },
   "file_extension": ".py",
   "mimetype": "text/x-python",
   "name": "python",
   "nbconvert_exporter": "python",
   "pygments_lexer": "ipython3",
   "version": "3.9.5"
  },
  "orig_nbformat": 4
 },
 "nbformat": 4,
 "nbformat_minor": 2
}
